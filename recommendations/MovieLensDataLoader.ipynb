{
 "cells": [
  {
   "cell_type": "markdown",
   "metadata": {},
   "source": [
    "code in part inspired by: https://github.com/EthanRosenthal/torchmf"
   ]
  },
  {
   "cell_type": "code",
   "execution_count": 1,
   "metadata": {},
   "outputs": [],
   "source": [
    "import os\n",
    "import mxnet as mx\n",
    "from mxnet import gluon, nd, ndarray\n",
    "\n",
    "import pandas as pd\n",
    "import numpy as np"
   ]
  },
  {
   "cell_type": "code",
   "execution_count": 2,
   "metadata": {},
   "outputs": [],
   "source": [
    "data_path = '/home/ubuntu/mxnet-the-straight-dope/incubator-mxnet/example/recommenders/ml-100k/'\n",
    "num_emb = 64\n",
    "opt = 'Adam'\n",
    "lr = 0.01\n",
    "mmntm = 0.\n",
    "wd = 0.\n",
    "batch_size = 64\n",
    "ctx = mx.gpu()"
   ]
  },
  {
   "cell_type": "code",
   "execution_count": 3,
   "metadata": {},
   "outputs": [],
   "source": [
    "def download_ml_data(prefix):\n",
    "    if not os.path.exists(\"%s.zip\" % prefix):\n",
    "        print(\"Downloading MovieLens data: %s\" % prefix)\n",
    "        os.system(\"wget http://files.grouplens.org/datasets/movielens/%s.zip\" % prefix)\n",
    "        os.system(\"unzip %s.zip\" % prefix)    "
   ]
  },
  {
   "cell_type": "code",
   "execution_count": 4,
   "metadata": {},
   "outputs": [],
   "source": [
    "def max_id(fname):\n",
    "    mu = 0\n",
    "    mi = 0\n",
    "    with open(fname) as f:\n",
    "        for line in f:\n",
    "            tks = line.strip().split('\\t')\n",
    "            if len(tks) != 4:\n",
    "                continue\n",
    "            mu = max(mu, int(tks[0]))\n",
    "            mi = max(mi, int(tks[1]))\n",
    "    return mu + 1, mi + 1\n",
    "max_users, max_items = max_id(data_path + 'u.data')"
   ]
  },
  {
   "cell_type": "code",
   "execution_count": 5,
   "metadata": {},
   "outputs": [],
   "source": [
    "train_df = pd.read_csv(data_path+'u1.base', header=None, sep='\\t')\n",
    "test_df = pd.read_csv(data_path+'u1.test', header=None, sep='\\t')\n",
    "\n",
    "train_data = nd.array(train_df[[0,1]].values, dtype=np.float32)\n",
    "train_label = nd.array(train_df[2].values, dtype=np.float32)\n",
    "\n",
    "test_data = nd.array(test_df[[0,1]].values, dtype=np.float32)\n",
    "test_label = nd.array(test_df[2].values, dtype=np.float32)"
   ]
  },
  {
   "cell_type": "code",
   "execution_count": 6,
   "metadata": {},
   "outputs": [],
   "source": [
    "class SparseMatrixDataset(gluon.data.Dataset):\n",
    "    def __init__(self, data, label):\n",
    "        assert data.shape[0] == len(label)\n",
    "        self.data = data\n",
    "        self.label = label\n",
    "        if isinstance(label, ndarray.NDArray) and len(label.shape) == 1:\n",
    "            self._label = label.asnumpy()\n",
    "        else:\n",
    "            self._label = label       \n",
    "        \n",
    "    def __getitem__(self, idx):\n",
    "        return self.data[idx, 0], self.data[idx, 1], self.label[idx]\n",
    "    \n",
    "    def __len__(self):\n",
    "        return self.data.shape[0]\n",
    "        "
   ]
  },
  {
   "cell_type": "code",
   "execution_count": 7,
   "metadata": {},
   "outputs": [],
   "source": [
    "class MFBlock(gluon.Block):\n",
    "    def __init__(self, max_users, max_items, num_emb, dropout_p=0.5):\n",
    "        super(MFBlock, self).__init__()\n",
    "        \n",
    "        self.max_users = max_users\n",
    "        self.max_items = max_items\n",
    "        self.dropout_p = dropout_p\n",
    "        self.num_emb = num_emb\n",
    "        \n",
    "        with self.name_scope():\n",
    "            self.user_biases = gluon.nn.Embedding(max_users, 1)\n",
    "            self.item_biases = gluon.nn.Embedding(max_items, 1)\n",
    "            self.user_embeddings = gluon.nn.Embedding(max_users, num_emb)\n",
    "            self.item_embeddings = gluon.nn.Embedding(max_items, num_emb)\n",
    "            self.dropout = gluon.nn.Dropout(dropout_p)\n",
    "            \n",
    "    def forward(self, users, items):\n",
    "#        predictions = self.user_biases(users)\n",
    "        \n",
    "#        predictions += self.item_biases(items)\n",
    "        \n",
    "    \n",
    "        a = self.user_embeddings(users)\n",
    "        b = self.item_embeddings(items)\n",
    "        predictions = a * b\n",
    "        \n",
    "        predictions = nd.sum(predictions, axis=1)\n",
    "        return predictions\n",
    "\n",
    "        "
   ]
  },
  {
   "cell_type": "code",
   "execution_count": 8,
   "metadata": {},
   "outputs": [
    {
     "data": {
      "text/plain": [
       "mfblock0_ (\n",
       "  Parameter mfblock0_embedding0_weight (shape=(944, 1), dtype=<class 'numpy.float32'>)\n",
       "  Parameter mfblock0_embedding1_weight (shape=(1683, 1), dtype=<class 'numpy.float32'>)\n",
       "  Parameter mfblock0_embedding2_weight (shape=(944, 64), dtype=<class 'numpy.float32'>)\n",
       "  Parameter mfblock0_embedding3_weight (shape=(1683, 64), dtype=<class 'numpy.float32'>)\n",
       ")"
      ]
     },
     "execution_count": 8,
     "metadata": {},
     "output_type": "execute_result"
    }
   ],
   "source": [
    "net = MFBlock(max_users=max_users, max_items=max_items, num_emb=num_emb, dropout_p=0.)\n",
    "net.collect_params()"
   ]
  },
  {
   "cell_type": "code",
   "execution_count": 9,
   "metadata": {},
   "outputs": [],
   "source": [
    "loss_function = gluon.loss.L2Loss()"
   ]
  },
  {
   "cell_type": "code",
   "execution_count": 10,
   "metadata": {},
   "outputs": [],
   "source": [
    "net.collect_params().initialize(mx.init.Xavier(magnitude=2.24), ctx=ctx, force_reinit=True)"
   ]
  },
  {
   "cell_type": "code",
   "execution_count": 11,
   "metadata": {},
   "outputs": [],
   "source": [
    "trainer = gluon.Trainer(net.collect_params(), 'sgd',\n",
    "                        {'learning_rate': lr, 'momentum': mmntm, 'wd': wd})"
   ]
  },
  {
   "cell_type": "code",
   "execution_count": 12,
   "metadata": {},
   "outputs": [],
   "source": [
    "train_data_iter = gluon.data.DataLoader(SparseMatrixDataset(train_data, train_label), \n",
    "                                        shuffle=True, batch_size=batch_size)\n",
    "test_data_iter = gluon.data.DataLoader(SparseMatrixDataset(test_data, test_label),\n",
    "                                          shuffle=True, batch_size=batch_size)"
   ]
  },
  {
   "cell_type": "markdown",
   "metadata": {},
   "source": [
    "def eval_error(dataset, net):\n",
    "    acc = mx.metric.RMSE()\n",
    "    for i, (user, item, label) in enumerate(train_data_iter):\n",
    "        user = user.as_in_context(ctx).reshape((64,))\n",
    "        item = item.as_in_context(ctx).reshape((64,))\n",
    "        label = label.as_in_context(ctx).reshape((64,))\n",
    "\n",
    "        output = net(user, item)\n",
    "        loss = loss_function(output, label)\n",
    "        preds = nd.argmin(loss, axis=1)\n",
    "        acc.update(preds=preds, labels=label)\n",
    "\n",
    "    return acc.get()[1]\n",
    "        \n",
    "        "
   ]
  },
  {
   "cell_type": "code",
   "execution_count": 16,
   "metadata": {},
   "outputs": [],
   "source": [
    "epochs = 10\n",
    "smoothing_constant = 0.01\n",
    "\n",
    "def train(data_iter, net):\n",
    "    for e in range(epochs):\n",
    "        print(\"epoc: {}\".format(e))\n",
    "        for i, (user, item, label) in enumerate(train_data_iter):\n",
    "            user = user.as_in_context(ctx).reshape((64,))\n",
    "            item = item.as_in_context(ctx).reshape((64,))\n",
    "            label = label.as_in_context(ctx).reshape((64,))\n",
    "            with mx.autograd.record():\n",
    "                output = net(user, item)               \n",
    "                loss = loss_function(output, label)\n",
    "                loss.backward()\n",
    "    return output"
   ]
  },
  {
   "cell_type": "code",
   "execution_count": 18,
   "metadata": {},
   "outputs": [
    {
     "name": "stdout",
     "output_type": "stream",
     "text": [
      "epoc: 0\n",
      "epoc: 1\n",
      "epoc: 2\n",
      "epoc: 3\n",
      "epoc: 4\n",
      "epoc: 5\n",
      "epoc: 6\n",
      "epoc: 7\n",
      "epoc: 8\n",
      "epoc: 9\n"
     ]
    },
    {
     "data": {
      "text/plain": [
       "\n",
       "[-0.01764225 -0.01973249 -0.00171107 -0.00667995 -0.0017695  -0.00944531\n",
       " -0.00338054 -0.01602585  0.00235402 -0.0067983   0.00552201 -0.00785946\n",
       " -0.00317494 -0.02271797  0.00205854 -0.01704894 -0.00930793 -0.00491966\n",
       " -0.0005414   0.00098694  0.00228647 -0.01193818  0.0012119  -0.00317118\n",
       "  0.00303162  0.00057618 -0.00223367  0.00641506  0.01062838 -0.0100396\n",
       " -0.00897237 -0.0068769  -0.00147783  0.00885371 -0.00623539  0.00142139\n",
       " -0.01124812 -0.02249821  0.0168259  -0.01339902 -0.01084941  0.00923354\n",
       " -0.00562321  0.00635514  0.00011133 -0.00374325 -0.00685176  0.0075858\n",
       "  0.01573353  0.0043061  -0.00816258  0.00269518  0.00899333 -0.00982486\n",
       " -0.00354866 -0.00452892 -0.00129756  0.01327208  0.00828554 -0.00563988\n",
       " -0.00954418  0.00839976 -0.01502164  0.01955279]\n",
       "<NDArray 64 @gpu(0)>"
      ]
     },
     "execution_count": 18,
     "metadata": {},
     "output_type": "execute_result"
    }
   ],
   "source": [
    "train(train_data_iter, net)"
   ]
  },
  {
   "cell_type": "code",
   "execution_count": null,
   "metadata": {},
   "outputs": [],
   "source": []
  },
  {
   "cell_type": "code",
   "execution_count": null,
   "metadata": {},
   "outputs": [],
   "source": []
  }
 ],
 "metadata": {
  "kernelspec": {
   "display_name": "gluon-cu80",
   "language": "python",
   "name": "gluon-cu80"
  },
  "language_info": {
   "codemirror_mode": {
    "name": "ipython",
    "version": 3
   },
   "file_extension": ".py",
   "mimetype": "text/x-python",
   "name": "python",
   "nbconvert_exporter": "python",
   "pygments_lexer": "ipython3",
   "version": "3.5.2"
  }
 },
 "nbformat": 4,
 "nbformat_minor": 2
}
